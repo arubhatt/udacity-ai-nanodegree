{
 "cells": [
  {
   "cell_type": "markdown",
   "metadata": {
    "collapsed": true
   },
   "source": [
    "# Simpson's Paradox\n",
    "Use `admission_data.csv` for this exercise."
   ]
  },
  {
   "cell_type": "code",
   "execution_count": 9,
   "metadata": {},
   "outputs": [
    {
     "name": "stdout",
     "output_type": "stream",
     "text": [
      "['student_id', 'gender', 'major', 'admitted']\n",
      "['35377', 'female', 'Chemistry', 'False']\n",
      "['56105', 'male', 'Physics', 'True']\n",
      "['31441', 'female', 'Chemistry', 'False']\n",
      "['51765', 'male', 'Physics', 'True']\n",
      "['53714', 'female', 'Physics', 'True']\n"
     ]
    }
   ],
   "source": [
    "# Load and view first few lines of dataset\n",
    "import csv\n",
    "lines = 0\n",
    "file = 'admission_data.csv'\n",
    "with open(file, newline='') as f:\n",
    "    content = csv.reader(f)\n",
    "    for row in content:\n",
    "        print(row)\n",
    "        lines+=1\n",
    "        if(lines > 5):\n",
    "            break\n",
    "    "
   ]
  },
  {
   "cell_type": "markdown",
   "metadata": {},
   "source": [
    "### Proportion and admission rate for each gender"
   ]
  },
  {
   "cell_type": "code",
   "execution_count": 26,
   "metadata": {},
   "outputs": [
    {
     "name": "stdout",
     "output_type": "stream",
     "text": [
      "number of females: 257\n",
      "number of females admitted: 74\n",
      "number of males: 244\n",
      "number of males admitted: 118\n",
      "proportion of females: 51.29740518962076\n",
      "proportion of males: 48.70259481037924\n",
      "admission rate females: 28.793774319066145\n",
      "admission rate males: 48.36065573770492\n"
     ]
    }
   ],
   "source": [
    "# Proportion of students that are female\n",
    "import csv\n",
    "lines = 0\n",
    "rows = 0\n",
    "fcount = 0\n",
    "faphysics= 0 #admitted female physics students\n",
    "fachemistry = 0 #admitted female chem students\n",
    "fnphysics= 0 #non-admitted female physics students\n",
    "fnchemistry = 0 #non-admitted female chem students\n",
    "mcount = 0\n",
    "maphysics = 0 #admitted male physics students\n",
    "machemistry = 0 #admitted male chemistry students\n",
    "mnphysics = 0 #non-admitted male physics students\n",
    "mnchemistry = 0 #non-admitted male chemistry students\n",
    "fcountad = 0 #admitted females\n",
    "mcountad = 0 #admitted males\n",
    "\n",
    "file = 'admission_data.csv'\n",
    "\n",
    "with open(file, newline='') as f:\n",
    "    content = csv.reader(f)\n",
    "    for row in content:\n",
    "        if 'female' in row:\n",
    "            fcount += 1 \n",
    "            if 'True' in row:\n",
    "                fcountad += 1\n",
    "                if 'Physics' in row:\n",
    "                    faphysics += 1\n",
    "                if 'Chemistry' in row:\n",
    "                    fachemistry += 1\n",
    "                \n",
    "            else:\n",
    "                if 'Physics' in row:\n",
    "                    fnphysics += 1\n",
    "                if 'Chemistry' in row:\n",
    "                    fnchemistry += 1\n",
    "        else:\n",
    "            mcount += 1\n",
    "            if 'True' in row:\n",
    "                mcountad += 1\n",
    "                if 'Physics' in row:\n",
    "                    maphysics += 1\n",
    "                if 'Chemistry' in row:\n",
    "                    machemistry += 1\n",
    "            else:\n",
    "                if 'Physics' in row:\n",
    "                    mnphysics += 1\n",
    "                if 'Chemistry' in row:\n",
    "                    mnchemistry += 1\n",
    "                \n",
    "    total = fcount + mcount\n",
    "    print('number of females: ' + str(fcount))\n",
    "    print('number of females admitted: ' + str(fcountad))\n",
    "    print('number of males: ' + str(mcount))\n",
    "    print('number of males admitted: ' + str(mcountad)) \n",
    "    pfemales = fcount/total * 100\n",
    "    print('proportion of females: ' + str(pfemales))\n",
    "    pmales = mcount/total * 100\n",
    "    print('proportion of males: ' + str(pmales))\n",
    "    afemales = fcountad/fcount * 100\n",
    "    print('admission rate females: ' + str(afemales))\n",
    "    amales = mcountad/mcount * 100\n",
    "    print('admission rate males: ' + str(amales))\n",
    "\n",
    "            "
   ]
  },
  {
   "cell_type": "code",
   "execution_count": 27,
   "metadata": {},
   "outputs": [
    {
     "name": "stdout",
     "output_type": "stream",
     "text": [
      "proportion of males: 48.70259481037924\n"
     ]
    }
   ],
   "source": [
    "# Proportion of students that are male\n",
    "print('proportion of males: ' + str(mcount/total * 100))\n"
   ]
  },
  {
   "cell_type": "code",
   "execution_count": 28,
   "metadata": {},
   "outputs": [
    {
     "name": "stdout",
     "output_type": "stream",
     "text": [
      "admission rate females: 28.793774319066145\n"
     ]
    }
   ],
   "source": [
    "# Admission rate for females\n",
    "print('admission rate females: ' + str(afemales))"
   ]
  },
  {
   "cell_type": "code",
   "execution_count": 29,
   "metadata": {},
   "outputs": [
    {
     "name": "stdout",
     "output_type": "stream",
     "text": [
      "admission rate males: 48.36065573770492\n"
     ]
    }
   ],
   "source": [
    "# Admission rate for males\n",
    "print('admission rate males: ' + str(amales))"
   ]
  },
  {
   "cell_type": "markdown",
   "metadata": {},
   "source": [
    "### Proportion and admission rate for physics majors of each gender"
   ]
  },
  {
   "cell_type": "code",
   "execution_count": 31,
   "metadata": {},
   "outputs": [
    {
     "name": "stdout",
     "output_type": "stream",
     "text": [
      "number of females Physics: 31\n"
     ]
    }
   ],
   "source": [
    "# What proportion of female students are majoring in physics?\n",
    "print('number of females Physics: ' + str(faphysics + fnphysics))\n",
    "  "
   ]
  },
  {
   "cell_type": "code",
   "execution_count": 33,
   "metadata": {},
   "outputs": [
    {
     "name": "stdout",
     "output_type": "stream",
     "text": [
      "number of males Physics: 225\n"
     ]
    }
   ],
   "source": [
    "# What proportion of male students are majoring in physics?\n",
    "print('number of males Physics: ' + str(maphysics + mnphysics))\n",
    "   "
   ]
  },
  {
   "cell_type": "code",
   "execution_count": 35,
   "metadata": {},
   "outputs": [
    {
     "name": "stdout",
     "output_type": "stream",
     "text": [
      "admit rate female Physics: 74.19354838709677\n"
     ]
    }
   ],
   "source": [
    "# Admission rate for female physics majors\n",
    "\n",
    "print('admit rate female Physics: ' + str((faphysics / (faphysics + fnphysics)) * 100)) "
   ]
  },
  {
   "cell_type": "code",
   "execution_count": 36,
   "metadata": {},
   "outputs": [
    {
     "name": "stdout",
     "output_type": "stream",
     "text": [
      "admit rate female Physics: 51.55555555555556\n"
     ]
    }
   ],
   "source": [
    "# Admission rate for male physics majors\n",
    "\n",
    "print('admit rate female Physics: ' + str((maphysics / (maphysics + mnphysics)) * 100)) "
   ]
  },
  {
   "cell_type": "markdown",
   "metadata": {},
   "source": [
    "### Proportion and admission rate for chemistry majors of each gender"
   ]
  },
  {
   "cell_type": "code",
   "execution_count": 22,
   "metadata": {},
   "outputs": [
    {
     "name": "stdout",
     "output_type": "stream",
     "text": [
      "number of females Chemistry: 226\n"
     ]
    }
   ],
   "source": [
    "# What proportion of female students are majoring in chemistry?\n",
    "print('number of females Chemistry: ' + str(fchemistry))\n"
   ]
  },
  {
   "cell_type": "code",
   "execution_count": 24,
   "metadata": {},
   "outputs": [
    {
     "name": "stdout",
     "output_type": "stream",
     "text": [
      "number of males Chemistry: 18\n"
     ]
    }
   ],
   "source": [
    "# What proportion of male students are majoring in chemistry?\n",
    "print('number of males Chemistry: ' + str(mchemistry))"
   ]
  },
  {
   "cell_type": "code",
   "execution_count": 37,
   "metadata": {},
   "outputs": [
    {
     "name": "stdout",
     "output_type": "stream",
     "text": [
      "admit rate female Chemistry: 22.566371681415927\n"
     ]
    }
   ],
   "source": [
    "# Admission rate for female chemistry majors\n",
    "print('admit rate female Chemistry: ' + str((fachemistry / (fachemistry + fnchemistry)) * 100)) "
   ]
  },
  {
   "cell_type": "code",
   "execution_count": 39,
   "metadata": {},
   "outputs": [
    {
     "name": "stdout",
     "output_type": "stream",
     "text": [
      "admit rate female Chemistry: 11.11111111111111\n"
     ]
    }
   ],
   "source": [
    "# Admission rate for male chemistry majors\n",
    "print('admit rate female Chemistry: ' + str((machemistry / (machemistry + mnchemistry)) * 100)) "
   ]
  },
  {
   "cell_type": "markdown",
   "metadata": {},
   "source": [
    "### Admission rate for each major"
   ]
  },
  {
   "cell_type": "code",
   "execution_count": 40,
   "metadata": {},
   "outputs": [],
   "source": [
    "# Admission rate for physics majors"
   ]
  },
  {
   "cell_type": "code",
   "execution_count": 41,
   "metadata": {},
   "outputs": [],
   "source": [
    "# Admission rate for chemistry majors\n"
   ]
  }
 ],
 "metadata": {
  "kernelspec": {
   "display_name": "Python 3",
   "language": "python",
   "name": "python3"
  },
  "language_info": {
   "codemirror_mode": {
    "name": "ipython",
    "version": 3
   },
   "file_extension": ".py",
   "mimetype": "text/x-python",
   "name": "python",
   "nbconvert_exporter": "python",
   "pygments_lexer": "ipython3",
   "version": "3.6.3"
  }
 },
 "nbformat": 4,
 "nbformat_minor": 2
}
